{
 "cells": [
  {
   "cell_type": "code",
   "execution_count": 1,
   "metadata": {},
   "outputs": [],
   "source": [
    "import os\n",
    "import numpy as np\n",
    "import tensorflow as tf\n",
    "from sklearn.model_selection import train_test_split\n",
    "import matplotlib.pyplot as plt"
   ]
  },
  {
   "cell_type": "code",
   "execution_count": 2,
   "metadata": {},
   "outputs": [],
   "source": [
    "IMAGE_SIZE = (128, 32)\n",
    "BATCH_SIZE = 64\n",
    "EPOCHS = 50\n",
    "PADDING_TOKEN = 99"
   ]
  },
  {
   "cell_type": "code",
   "execution_count": 3,
   "metadata": {},
   "outputs": [
    {
     "name": "stdout",
     "output_type": "stream",
     "text": [
      "characters:  ['!', '\"', '#', \"'\", '(', ')', '*', ',', '-', '.', '/', '0', '1', '2', '3', '4', '5', '6', '7', '8', '9', ':', ';', '?', 'A', 'B', 'C', 'D', 'E', 'F', 'G', 'H', 'I', 'J', 'K', 'L', 'M', 'N', 'O', 'P', 'Q', 'R', 'S', 'T', 'U', 'V', 'W', 'X', 'Y', 'Z', 'a', 'b', 'c', 'd', 'e', 'f', 'g', 'h', 'i', 'j', 'k', 'l', 'm', 'n', 'o', 'p', 'q', 'r', 's', 't', 'u', 'v', 'w', 'x', 'y', 'z']\n",
      "max_len:  19\n"
     ]
    }
   ],
   "source": [
    "DATA_INPUT_PATH = \"dataiam\"\n",
    "\n",
    "images_path = []\n",
    "labels = []\n",
    "def preprocess_dataset():\n",
    "    characters = set()\n",
    "    max_len = 0\n",
    "\n",
    "    with open(os.path.join(DATA_INPUT_PATH, 'iam_words', 'words.txt'), 'r') as file:\n",
    "        lines = file.readlines()\n",
    "        # count = 0\n",
    "        for line_number, line in enumerate(lines):\n",
    "            # Skip comments and empty lines\n",
    "            if line.startswith('#') or line.strip() == '':\n",
    "                continue\n",
    "\n",
    "            # Split the line and extract information\n",
    "            parts = line.strip().split()\n",
    "\n",
    "            # Continue with the rest of the code\n",
    "            word_id = parts[0]\n",
    "\n",
    "            first_folder = word_id.split(\"-\")[0]\n",
    "            second_folder = first_folder + '-' + word_id.split(\"-\")[1]\n",
    "\n",
    "            # Construct the image filename\n",
    "            image_filename = f\"{word_id}.png\"\n",
    "            image_path = os.path.join(\n",
    "                DATA_INPUT_PATH, 'iam_words', 'words', first_folder, second_folder, image_filename)\n",
    "\n",
    "            # Check if the image file exists\n",
    "            if os.path.isfile(image_path) and os.path.getsize(image_path):\n",
    "\n",
    "                images_path.append(image_path)\n",
    "\n",
    "                # Extract labels\n",
    "                label = parts[-1].strip()\n",
    "                for char in label:\n",
    "                    characters.add(char)\n",
    "\n",
    "                max_len = max(max_len, len(label))\n",
    "                labels.append(label)\n",
    "            # count += 1\n",
    "            # if count > 1000:\n",
    "            #     break\n",
    "    \n",
    "    characters = sorted(list(characters))\n",
    "\n",
    "    print('characters: ', characters)\n",
    "    print('max_len: ', max_len)\n",
    "    # Mapping characters to integers.\n",
    "    char_to_num = tf.keras.layers.StringLookup(\n",
    "        vocabulary=list(characters), mask_token=None)\n",
    "\n",
    "    # Mapping integers back to original characters.\n",
    "    num_to_char = tf.keras.layers.StringLookup(\n",
    "        vocabulary=char_to_num.get_vocabulary(), mask_token=None, invert=True\n",
    "    )\n",
    "    return characters, char_to_num, num_to_char, max_len\n",
    "    \n",
    "characters, char_to_num, num_to_char, max_len = preprocess_dataset()"
   ]
  },
  {
   "cell_type": "code",
   "execution_count": 4,
   "metadata": {},
   "outputs": [],
   "source": [
    "def distortion_free_resize(image, img_size):\n",
    "    w, h = img_size\n",
    "    image = tf.image.resize(image, size=(h, w), preserve_aspect_ratio=True)\n",
    "\n",
    "    # Check tha amount of padding needed to be done.\n",
    "    pad_height = h - tf.shape(image)[0]\n",
    "    pad_width = w - tf.shape(image)[1]\n",
    "\n",
    "    # Only necessary if you want to do same amount of padding on both sides.\n",
    "    if pad_height % 2 != 0:\n",
    "        height = pad_height // 2\n",
    "        pad_height_top = height + 1\n",
    "        pad_height_bottom = height\n",
    "    else:\n",
    "        pad_height_top = pad_height_bottom = pad_height // 2\n",
    "\n",
    "    if pad_width % 2 != 0:\n",
    "        width = pad_width // 2\n",
    "        pad_width_left = width + 1\n",
    "        pad_width_right = width\n",
    "    else:\n",
    "        pad_width_left = pad_width_right = pad_width // 2\n",
    "\n",
    "    image = tf.pad(\n",
    "        image,\n",
    "        paddings=[\n",
    "            [pad_height_top, pad_height_bottom],\n",
    "            [pad_width_left, pad_width_right],\n",
    "            [0, 0],\n",
    "        ],\n",
    "    )\n",
    "\n",
    "    image = tf.transpose(image, perm=[1, 0, 2])\n",
    "    image = tf.image.flip_left_right(image)\n",
    "    return image\n",
    "\n",
    "def preprocess_image(image_path, img_size):\n",
    "    image = tf.io.read_file(image_path)\n",
    "    image = tf.image.decode_png(image, 1)\n",
    "    image = distortion_free_resize(image, img_size)\n",
    "    image = tf.cast(image, tf.float32) / 255.0\n",
    "    return image\n",
    "def vectorize_label(label):\n",
    "    label = char_to_num(tf.strings.unicode_split(\n",
    "        label, input_encoding=\"UTF-8\"))\n",
    "    length = tf.shape(label)[0]\n",
    "    pad_amount = max_len - length\n",
    "    label = tf.pad(label, paddings=[[0, pad_amount]],\n",
    "                   constant_values=PADDING_TOKEN)\n",
    "    return label"
   ]
  },
  {
   "cell_type": "code",
   "execution_count": 5,
   "metadata": {},
   "outputs": [],
   "source": [
    "def process_images_labels(image_path, label):\n",
    "    image = preprocess_image(image_path, IMAGE_SIZE)\n",
    "    label = vectorize_label(label)\n",
    "    return {\"image\": image, \"label\": label}\n",
    "\n",
    "def prepare_dataset(image_paths, labels):\n",
    "    AUTOTUNE = tf.data.AUTOTUNE\n",
    "    print('len(image_paths): ', len(image_paths))\n",
    "    print('len(labels): ', len(labels))\n",
    "    dataset = tf.data.Dataset.from_tensor_slices((image_paths, labels)).map(\n",
    "        process_images_labels, num_parallel_calls=AUTOTUNE\n",
    "    )\n",
    "    return dataset.batch(BATCH_SIZE).cache().prefetch(AUTOTUNE)"
   ]
  },
  {
   "cell_type": "code",
   "execution_count": 6,
   "metadata": {},
   "outputs": [
    {
     "name": "stdout",
     "output_type": "stream",
     "text": [
      "len(image_paths):  35650\n",
      "len(labels):  35650\n",
      "len(image_paths):  4456\n",
      "len(labels):  4456\n",
      "len(image_paths):  4457\n",
      "len(labels):  4457\n"
     ]
    }
   ],
   "source": [
    "def split_dataset():\n",
    "    # Split the data into training, validation, and test sets using train_test_split\n",
    "    train_images, test_images, train_labels, test_labels = train_test_split(\n",
    "        images_path, labels, test_size=0.2, random_state=42\n",
    "    )\n",
    "\n",
    "    # Further split the test set into validation and final test sets\n",
    "    val_images, test_images, val_labels, test_labels = train_test_split(\n",
    "        test_images, test_labels, test_size=0.5, random_state=42\n",
    "    )\n",
    "\n",
    "    train_set = prepare_dataset(train_images, train_labels)\n",
    "    val_set = prepare_dataset(val_images, val_labels)\n",
    "    test_set = prepare_dataset(test_images, test_labels)\n",
    "    \n",
    "    return train_set, val_set, test_set\n",
    "\n",
    "train_set, val_set, test_set = split_dataset()"
   ]
  }
 ],
 "metadata": {
  "kernelspec": {
   "display_name": "base",
   "language": "python",
   "name": "python3"
  },
  "language_info": {
   "codemirror_mode": {
    "name": "ipython",
    "version": 3
   },
   "file_extension": ".py",
   "mimetype": "text/x-python",
   "name": "python",
   "nbconvert_exporter": "python",
   "pygments_lexer": "ipython3",
   "version": "3.11.7"
  }
 },
 "nbformat": 4,
 "nbformat_minor": 2
}
